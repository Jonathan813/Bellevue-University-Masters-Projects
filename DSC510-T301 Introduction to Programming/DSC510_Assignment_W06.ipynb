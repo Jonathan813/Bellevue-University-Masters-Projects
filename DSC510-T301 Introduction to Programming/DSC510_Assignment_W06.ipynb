{
 "cells": [
  {
   "cell_type": "markdown",
   "metadata": {},
   "source": [
    "## 6.1 Assignment: For and While Loops"
   ]
  },
  {
   "cell_type": "markdown",
   "metadata": {},
   "source": [
    "<p>File: Week 6 - For and While Loops.ipynb\n",
    "<p>Name: Jonathan Lawrence</p>\n",
    "<p>Date: 1/20/2019</p>\n",
    "<p>Course DSC510 - Intro to Programming\n",
    "<p>Desc: This program will perform various calculations (addition, subtraction, multiplication, division, and average calculation). It will contain a variety of loops and functions."
   ]
  },
  {
   "cell_type": "markdown",
   "metadata": {},
   "source": [
    "Your program must have a header. Use the programing style guide for guidance.\n",
    "This program will perform various calculations (addition, subtraction, multiplication, division, and average calculation)\n",
    "This program will contain a variety of loops and functions.\n",
    "The program will add, subtract, multiply, divide two numbers and provide the average of multiple numbers input by the user.\n",
    "Define a function named performCalculation which takes one parameter. The parameter will be the operation being performed (+, -, *, /).\n",
    "This function will perform the given prompt the user for two numbers then perform the expected operation depending on the parameter that's passed into the function.\n",
    "This function will print the calculated value for the end user.\n",
    "Define a function named calculateAverage which takes no parameters.\n",
    "This function will ask the user how many numbers they wish to input.\n",
    "This function will use the number of times to run the program within a for loop in order to calculate the total and average.\n",
    "This function will print the calculated average.\n",
    "This program will have a main section which contains a while loop. The while loop will be used to allow the user to run the program until they enter a value which ends the loop.\n",
    "The main program should prompt the user for the operation they wish to perform.\n",
    "The main program should evaluate the entered data using if statements.\n",
    "The main program should call the necessary function to perform the calculation."
   ]
  },
  {
   "cell_type": "markdown",
   "metadata": {},
   "source": [
    "<b>Define performCalculation function</b>"
   ]
  },
  {
   "cell_type": "code",
   "execution_count": 1,
   "metadata": {},
   "outputs": [],
   "source": [
    "def performCalculation(x):\n",
    "    print(\"\\n*****************************\")\n",
    "    print(\"PERFORM CALCULATION FUNCTION!\")\n",
    "    print(\"*****************************\")\n",
    "    print(\"Operation: \" + str(operatorInput))\n",
    "    firstInput = int(input(\"Please enter 1st input: \"))\n",
    "    secondInput = int(input(\"Please enter 2nd input: \"))\n",
    "    if x == \"+\":\n",
    "        result = firstInput + secondInput\n",
    "    elif x == \"-\":\n",
    "        result = firstInput - secondInput\n",
    "    elif x == \"*\":\n",
    "        result = firstInput * secondInput\n",
    "    elif x == \"/\":\n",
    "        result = firstInput / secondInput\n",
    "    else:\n",
    "        performCalculation()\n",
    "    print(\"Result: \" + str(result))\n",
    "    return"
   ]
  },
  {
   "cell_type": "markdown",
   "metadata": {},
   "source": [
    "<b>Define calculateAverage function</b>"
   ]
  },
  {
   "cell_type": "code",
   "execution_count": 2,
   "metadata": {},
   "outputs": [],
   "source": [
    "def calculateAverage():\n",
    "    print(\"\\n*****************************\")\n",
    "    print(\"CALCULATE AVERAGE FUNCTION!\")\n",
    "    print(\"*****************************\")\n",
    "    numList = []\n",
    "    NumofInputs = int(input(\"How many inputs would you like to enter: \"))\n",
    "    for i in range(NumofInputs):\n",
    "        inputIteration = int(input(\"Number \" + str(i+1) + \": \"))\n",
    "        numList.append(inputIteration)\n",
    "    total = sum(numList)\n",
    "    average = sum(numList) / NumofInputs\n",
    "    print(\"Total: \" + str(total))\n",
    "    print(\"Average: \" + str(average))\n",
    "    return"
   ]
  },
  {
   "cell_type": "markdown",
   "metadata": {},
   "source": [
    "<b>MAIN</b>"
   ]
  },
  {
   "cell_type": "code",
   "execution_count": null,
   "metadata": {},
   "outputs": [],
   "source": [
    "while True:\n",
    "    operatorInput = input(\"\\nWhich operation would you like to perform? Please enter one of the following (+,-,*,/,Average,Done).\")\n",
    "    operandList = [\"+\",\"-\",\"*\",\"/\"]\n",
    "    if operatorInput in operandList:\n",
    "        performCalculation(operatorInput)\n",
    "    elif operatorInput == \"Average\":\n",
    "        calculateAverage()\n",
    "    elif operatorInput == \"Done\":\n",
    "        print(\"\\nFINISHED!\")\n",
    "        break"
   ]
  },
  {
   "cell_type": "code",
   "execution_count": null,
   "metadata": {},
   "outputs": [],
   "source": []
  }
 ],
 "metadata": {
  "kernelspec": {
   "display_name": "Python 3",
   "language": "python",
   "name": "python3"
  },
  "language_info": {
   "codemirror_mode": {
    "name": "ipython",
    "version": 3
   },
   "file_extension": ".py",
   "mimetype": "text/x-python",
   "name": "python",
   "nbconvert_exporter": "python",
   "pygments_lexer": "ipython3",
   "version": "3.7.0"
  }
 },
 "nbformat": 4,
 "nbformat_minor": 2
}
