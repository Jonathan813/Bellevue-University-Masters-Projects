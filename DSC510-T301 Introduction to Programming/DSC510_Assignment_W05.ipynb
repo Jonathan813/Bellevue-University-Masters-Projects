{
 "cells": [
  {
   "cell_type": "markdown",
   "metadata": {},
   "source": [
    "## 5.1 Assignment: Function Assignment"
   ]
  },
  {
   "cell_type": "markdown",
   "metadata": {},
   "source": [
    "<p>File: Week 5 - Function Assignment.ipynb\n",
    "<p>Name: Jonathan Lawrence</p>\n",
    "<p>Date: 1/13/2019</p>\n",
    "<p>Course DSC510 - Intro to Programming\n",
    "<p>Desc: Program modifies our If Statement from Week 4 to add a function to do the heavy lifting."
   ]
  },
  {
   "cell_type": "markdown",
   "metadata": {},
   "source": [
    "This week we will modify our If Statement program to add a function to do the heavy lifting.\n",
    "Modify your IF Statement program in to add a function. This function will perform the cost calculation. The function will have two parameters (feet and price). When you call the function, you will pass two arguments to the function; feet of fiber to be installed and the cost (remember that price is dependent on the number of feet being installed). You probably should have the following:\n",
    "<p>Your program must have a header. Use the programing style guide for guidance.</p>\n",
    "<p>A welcome message</p>\n",
    "<p>A function with two parameters</p>\n",
    "<p>A call to the function</p>\n",
    "<p>The application should calculate the cost based upon the number of feet being ordered</p>\n",
    "<p>A printed message displaying the company name and the total calculated cost</p>"
   ]
  },
  {
   "cell_type": "markdown",
   "metadata": {},
   "source": [
    "<b>Define cost calculation function</b>"
   ]
  },
  {
   "cell_type": "code",
   "execution_count": 1,
   "metadata": {},
   "outputs": [],
   "source": [
    "def CostCalc(feetNeeded, priceFoot):\n",
    "    xTotal = feetNeeded * priceFoot\n",
    "    return xTotal"
   ]
  },
  {
   "cell_type": "markdown",
   "metadata": {},
   "source": [
    "<b>Display a welcome message for your program</b>"
   ]
  },
  {
   "cell_type": "code",
   "execution_count": 2,
   "metadata": {},
   "outputs": [
    {
     "name": "stdout",
     "output_type": "stream",
     "text": [
      "HELLO and WELCOME to Bellevue Fiber Optic Supply!\n"
     ]
    }
   ],
   "source": [
    "print(\"HELLO and WELCOME to Bellevue Fiber Optic Supply!\")"
   ]
  },
  {
   "cell_type": "markdown",
   "metadata": {},
   "source": [
    "<b>Get the company name from the user</b>"
   ]
  },
  {
   "cell_type": "code",
   "execution_count": 3,
   "metadata": {},
   "outputs": [
    {
     "name": "stdout",
     "output_type": "stream",
     "text": [
      "What is your company name?\n",
      "Home Depot\n"
     ]
    }
   ],
   "source": [
    "companyName = input(\"What is your company name?\\n\")"
   ]
  },
  {
   "cell_type": "markdown",
   "metadata": {},
   "source": [
    "<b>Get the number of feet of fiber optic cable to be installed from the user</b>"
   ]
  },
  {
   "cell_type": "code",
   "execution_count": 4,
   "metadata": {},
   "outputs": [
    {
     "name": "stdout",
     "output_type": "stream",
     "text": [
      "How many feet of fiber optic cable do you need to install?\n",
      "130\n"
     ]
    }
   ],
   "source": [
    "feetNeeded = int(input(\"How many feet of fiber optic cable do you need to install?\\n\"))"
   ]
  },
  {
   "cell_type": "markdown",
   "metadata": {},
   "source": [
    "<b>Evaluate the total cost based upon the number of feet requested</b>"
   ]
  },
  {
   "cell_type": "code",
   "execution_count": 5,
   "metadata": {},
   "outputs": [
    {
     "name": "stdout",
     "output_type": "stream",
     "text": [
      "Feet Needed: 130\n",
      "Price per foot: 0.8\n",
      "Total Cost: 104.0\n"
     ]
    }
   ],
   "source": [
    "if feetNeeded > 500:\n",
    "    priceFoot = 0.50\n",
    "elif feetNeeded > 250:\n",
    "    priceFoot = 0.70\n",
    "elif feetNeeded > 100:\n",
    "    priceFoot = 0.80\n",
    "else:\n",
    "    priceFoot = 0.87\n",
    "\n",
    "totalCost = CostCalc(feetNeeded, priceFoot)\n",
    "\n",
    "# Check math\n",
    "print(\"Feet Needed: \" + str(feetNeeded))\n",
    "print(\"Price per foot: \" + str(priceFoot))\n",
    "print(\"Total Cost: \" + str(totalCost))"
   ]
  },
  {
   "cell_type": "markdown",
   "metadata": {},
   "source": [
    "<b>Display the calculated information including the number of feet requested and company name</b>"
   ]
  },
  {
   "cell_type": "code",
   "execution_count": 6,
   "metadata": {},
   "outputs": [
    {
     "name": "stdout",
     "output_type": "stream",
     "text": [
      "Bellevue Fiber Optic Supply would like to thank you for your purchase! \n",
      "\n",
      "Receipt\n",
      "Purchaser: Home Depot\n",
      "Feet Needed: 130 ft\n",
      "Price per foot: $0.8\n",
      "Total Cost: $104.0\n"
     ]
    }
   ],
   "source": [
    "print(\"Bellevue Fiber Optic Supply would like to thank you for your purchase! \\n\\nReceipt\")\n",
    "print(\"Purchaser: \" + str(companyName))\n",
    "print(\"Feet Needed: \" + str(feetNeeded) + \" ft\")\n",
    "print(\"Price per foot: $\" + str(priceFoot))\n",
    "print(\"Total Cost: $\" + str(totalCost))"
   ]
  }
 ],
 "metadata": {
  "kernelspec": {
   "display_name": "Python 3",
   "language": "python",
   "name": "python3"
  },
  "language_info": {
   "codemirror_mode": {
    "name": "ipython",
    "version": 3
   },
   "file_extension": ".py",
   "mimetype": "text/x-python",
   "name": "python",
   "nbconvert_exporter": "python",
   "pygments_lexer": "ipython3",
   "version": "3.7.0"
  }
 },
 "nbformat": 4,
 "nbformat_minor": 2
}
