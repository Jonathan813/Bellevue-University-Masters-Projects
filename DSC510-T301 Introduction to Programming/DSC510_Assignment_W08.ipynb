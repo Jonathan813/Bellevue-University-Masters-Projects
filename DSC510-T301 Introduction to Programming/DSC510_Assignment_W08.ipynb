{
 "cells": [
  {
   "cell_type": "markdown",
   "metadata": {},
   "source": [
    "## 8.1 Assignment: Dictionaries, Tuples, and JSON Data"
   ]
  },
  {
   "cell_type": "markdown",
   "metadata": {},
   "source": [
    "<p>File: Week 8 - Dictionaries, Tuples, and JSON Data.ipynb\n",
    "<p>Name: Jonathan Lawrence</p>\n",
    "<p>Date: 2/01/2019</p>\n",
    "<p>Course DSC510 - Intro to Programming\n",
    "<p>Desc: This program will process a txt file, calculate the total words, and output the number of occurrences of each word in the file."
   ]
  },
  {
   "cell_type": "markdown",
   "metadata": {},
   "source": [
    "We will create a program which performs three essential operations. It will process a txt file (Gettysburg.txt[click the link to download the text file), calculate the total words, and output the number of occurrences of each word in the file.\n",
    "\n",
    "Open the file and process each line.\n",
    "Either add each word to the dictionary with a frequency of 1 or update the word’s count by 1.\n",
    "Nicely print the output, in this case from high to low frequency. You should use string formatting for this. (See discussion 8.3).\n",
    "We want to achieve each major goal with a function (one function, one action). We can find four functions that need to be created."
   ]
  },
  {
   "cell_type": "markdown",
   "metadata": {},
   "source": [
    "<b>add_word</b>: Add each word to the dictionary. Parameters are the word and a dictionary. No return value."
   ]
  },
  {
   "cell_type": "code",
   "execution_count": 1,
   "metadata": {},
   "outputs": [],
   "source": [
    "import string"
   ]
  },
  {
   "cell_type": "code",
   "execution_count": 2,
   "metadata": {},
   "outputs": [],
   "source": [
    "def add_word(words, myDict):\n",
    "    for word in words:\n",
    "        if word not in myDict:\n",
    "            myDict[word] = 1\n",
    "        else:\n",
    "            myDict[word] += 1\n",
    "    return"
   ]
  },
  {
   "cell_type": "markdown",
   "metadata": {},
   "source": [
    "<b>Process_line</b>: There is some work to be done to process the line: strip off various characters, split out the words, and so on. Parameters are a line and the dictionary. It calls add word with each processed word. No return value."
   ]
  },
  {
   "cell_type": "code",
   "execution_count": 3,
   "metadata": {},
   "outputs": [],
   "source": [
    "def Process_line(line, myDict):\n",
    "    for c in string.punctuation:          # Replace punctuation with nothing\n",
    "        line = line.replace(c,\"\")\n",
    "    words = line.lower().split()          # Split the lines up\n",
    "    add_word(words, myDict)\n",
    "    return"
   ]
  },
  {
   "cell_type": "markdown",
   "metadata": {},
   "source": [
    "<b>Pretty_print</b>: Because formatted printing can be messy and often particular to each situation (meaning that we might need to modify it later), we separated out the printing function. The parameter is a dictionary. No return value."
   ]
  },
  {
   "cell_type": "code",
   "execution_count": 4,
   "metadata": {},
   "outputs": [],
   "source": [
    "def Pretty_print(myDict):\n",
    "    myDict_sorted = sorted(myDict.items(), key=lambda kv: kv[1], reverse = True)\n",
    "    print(\"\\nTotal Number of Words: {}\".format(sum(myDict.values())))\n",
    "    print(\"\\nNumber of Unique Words:{}\".format(len(myDict)))\n",
    "    print(\"\\nmyDict (Unsorted):\\n{}\".format(myDict))\n",
    "    print(\"\\nmyDict (Sorted Representation via LIST):\\n{}\".format(myDict_sorted))\n",
    "    return"
   ]
  },
  {
   "cell_type": "markdown",
   "metadata": {},
   "source": [
    "<b>main</b>: We will use a main function as the main program. As usual, it will open the file and call process_line on each line. When finished, it will call pretty_print to print the dictionary."
   ]
  },
  {
   "cell_type": "code",
   "execution_count": 5,
   "metadata": {},
   "outputs": [],
   "source": [
    "def main():\n",
    "    myDict = {}\n",
    "    with open('gettysburg.txt', 'r') as f:          # Open file\n",
    "        for line in f:\n",
    "            Process_line(line, myDict)\n",
    "    Pretty_print(myDict)"
   ]
  },
  {
   "cell_type": "code",
   "execution_count": 6,
   "metadata": {},
   "outputs": [
    {
     "name": "stdout",
     "output_type": "stream",
     "text": [
      "\n",
      "Total Number of Words: 276\n",
      "\n",
      "Number of Unique Words:143\n",
      "\n",
      "myDict (Unsorted):\n",
      "{'four': 1, 'score': 1, 'and': 6, 'seven': 1, 'years': 1, 'ago': 1, 'our': 2, 'fathers': 1, 'brought': 1, 'forth': 1, 'on': 2, 'this': 4, 'continent': 1, 'a': 7, 'new': 2, 'nation': 5, 'conceived': 2, 'in': 4, 'liberty': 1, 'dedicated': 4, 'to': 8, 'the': 11, 'proposition': 1, 'that': 13, 'all': 1, 'men': 2, 'are': 3, 'created': 1, 'equal': 1, 'now': 1, 'we': 10, 'engaged': 1, 'great': 3, 'civil': 1, 'war': 2, 'testing': 1, 'whether': 1, 'or': 2, 'any': 1, 'so': 3, 'can': 5, 'long': 2, 'endure': 1, 'met': 1, 'battlefield': 1, 'of': 5, 'have': 5, 'come': 1, 'dedicate': 2, 'portion': 1, 'field': 1, 'as': 1, 'final': 1, 'resting': 1, 'place': 1, 'for': 5, 'those': 1, 'who': 3, 'here': 8, 'gave': 2, 'their': 1, 'lives': 1, 'might': 1, 'live': 1, 'it': 5, 'is': 3, 'altogether': 1, 'fitting': 1, 'proper': 1, 'should': 1, 'do': 1, 'but': 2, 'larger': 1, 'sense': 1, 'not': 5, 'consecrate': 1, 'hallow': 1, 'ground': 1, 'brave': 1, 'living': 2, 'dead': 3, 'struggled': 1, 'consecrated': 1, 'far': 2, 'above': 1, 'poor': 1, 'power': 1, 'add': 1, 'detract': 1, 'world': 1, 'will': 1, 'little': 1, 'note': 1, 'nor': 1, 'remember': 1, 'what': 2, 'say': 1, 'never': 1, 'forget': 1, 'they': 3, 'did': 1, 'us': 3, 'rather': 2, 'be': 2, 'unfinished': 1, 'work': 1, 'which': 2, 'fought': 1, 'thus': 1, 'nobly': 1, 'advanced': 1, 'task': 1, 'remaining': 1, 'before': 1, 'from': 2, 'these': 2, 'honored': 1, 'take': 1, 'increased': 1, 'devotion': 2, 'cause': 1, 'last': 1, 'full': 1, 'measure': 1, 'highly': 1, 'resolve': 1, 'shall': 3, 'died': 1, 'vain': 1, 'under': 1, 'god': 1, 'birth': 1, 'freedom': 1, 'government': 1, 'people': 3, 'by': 1, 'perish': 1, 'earth': 1, 'abraham': 1, 'lincoln': 1, 'november': 1, '19': 1, '1863': 1}\n",
      "\n",
      "myDict (Sorted Representation via LIST):\n",
      "[('that', 13), ('the', 11), ('we', 10), ('to', 8), ('here', 8), ('a', 7), ('and', 6), ('nation', 5), ('can', 5), ('of', 5), ('have', 5), ('for', 5), ('it', 5), ('not', 5), ('this', 4), ('in', 4), ('dedicated', 4), ('are', 3), ('great', 3), ('so', 3), ('who', 3), ('is', 3), ('dead', 3), ('they', 3), ('us', 3), ('shall', 3), ('people', 3), ('our', 2), ('on', 2), ('new', 2), ('conceived', 2), ('men', 2), ('war', 2), ('or', 2), ('long', 2), ('dedicate', 2), ('gave', 2), ('but', 2), ('living', 2), ('far', 2), ('what', 2), ('rather', 2), ('be', 2), ('which', 2), ('from', 2), ('these', 2), ('devotion', 2), ('four', 1), ('score', 1), ('seven', 1), ('years', 1), ('ago', 1), ('fathers', 1), ('brought', 1), ('forth', 1), ('continent', 1), ('liberty', 1), ('proposition', 1), ('all', 1), ('created', 1), ('equal', 1), ('now', 1), ('engaged', 1), ('civil', 1), ('testing', 1), ('whether', 1), ('any', 1), ('endure', 1), ('met', 1), ('battlefield', 1), ('come', 1), ('portion', 1), ('field', 1), ('as', 1), ('final', 1), ('resting', 1), ('place', 1), ('those', 1), ('their', 1), ('lives', 1), ('might', 1), ('live', 1), ('altogether', 1), ('fitting', 1), ('proper', 1), ('should', 1), ('do', 1), ('larger', 1), ('sense', 1), ('consecrate', 1), ('hallow', 1), ('ground', 1), ('brave', 1), ('struggled', 1), ('consecrated', 1), ('above', 1), ('poor', 1), ('power', 1), ('add', 1), ('detract', 1), ('world', 1), ('will', 1), ('little', 1), ('note', 1), ('nor', 1), ('remember', 1), ('say', 1), ('never', 1), ('forget', 1), ('did', 1), ('unfinished', 1), ('work', 1), ('fought', 1), ('thus', 1), ('nobly', 1), ('advanced', 1), ('task', 1), ('remaining', 1), ('before', 1), ('honored', 1), ('take', 1), ('increased', 1), ('cause', 1), ('last', 1), ('full', 1), ('measure', 1), ('highly', 1), ('resolve', 1), ('died', 1), ('vain', 1), ('under', 1), ('god', 1), ('birth', 1), ('freedom', 1), ('government', 1), ('by', 1), ('perish', 1), ('earth', 1), ('abraham', 1), ('lincoln', 1), ('november', 1), ('19', 1), ('1863', 1)]\n"
     ]
    }
   ],
   "source": [
    "main()"
   ]
  }
 ],
 "metadata": {
  "kernelspec": {
   "display_name": "Python 3",
   "language": "python",
   "name": "python3"
  },
  "language_info": {
   "codemirror_mode": {
    "name": "ipython",
    "version": 3
   },
   "file_extension": ".py",
   "mimetype": "text/x-python",
   "name": "python",
   "nbconvert_exporter": "python",
   "pygments_lexer": "ipython3",
   "version": "3.7.0"
  }
 },
 "nbformat": 4,
 "nbformat_minor": 2
}
