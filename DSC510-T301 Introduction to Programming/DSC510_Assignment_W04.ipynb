{
 "cells": [
  {
   "cell_type": "markdown",
   "metadata": {},
   "source": [
    "## 4.1 Assignment: If Statement Program"
   ]
  },
  {
   "cell_type": "markdown",
   "metadata": {},
   "source": [
    "<p>Name: Jonathan Lawrence</p>\n",
    "<p>Date: 12/30/2018</p>\n",
    "<p>DSC510 4.1 Assignment: If Statement Program</p>"
   ]
  },
  {
   "cell_type": "markdown",
   "metadata": {},
   "source": [
    "This week we will implement “if statements” in a program.  Your program will calculate the cost of  fiber optic cable installation by multiplying the number of feet needed by $.87.  We will also evaluate a bulk discount.  You will prompt the user for the number of fiber optic cable they need installed.  Using the default value of $.87 calculate the total expense.  If the user purchases more than 100 feet they are charged $.80 per foot.  If the user purchases more than 250 feet they will be charged $.70 per foot.  If they purchase more than 500 feet they will be charged $.50 per foot.\n",
    "\n",
    "    Display a welcome message for your program. \n",
    "    Get the company name from the user\n",
    "    Get the number of feet of fiber optic cable to be installed from the user\n",
    "    Evaluate the total cost based upon the number of feet requested.\n",
    "    Display the calculated information including the number of feet requested and company name."
   ]
  },
  {
   "cell_type": "markdown",
   "metadata": {},
   "source": [
    "<b>Display a welcome message for your program</b>"
   ]
  },
  {
   "cell_type": "code",
   "execution_count": 17,
   "metadata": {},
   "outputs": [
    {
     "name": "stdout",
     "output_type": "stream",
     "text": [
      "HELLO and WELCOME to Bellevue Fiber Optic Supply!\n"
     ]
    }
   ],
   "source": [
    "print(\"HELLO and WELCOME to Bellevue Fiber Optic Supply!\")"
   ]
  },
  {
   "cell_type": "markdown",
   "metadata": {},
   "source": [
    "<b>Get the company name from the user</b>"
   ]
  },
  {
   "cell_type": "code",
   "execution_count": 18,
   "metadata": {},
   "outputs": [
    {
     "name": "stdout",
     "output_type": "stream",
     "text": [
      "What is your company name?\n",
      "Walmart\n"
     ]
    }
   ],
   "source": [
    "companyName = input(\"What is your company name?\\n\")"
   ]
  },
  {
   "cell_type": "markdown",
   "metadata": {},
   "source": [
    "<b>Get the number of feet of fiber optic cable to be installed from the user</b>"
   ]
  },
  {
   "cell_type": "code",
   "execution_count": 19,
   "metadata": {},
   "outputs": [
    {
     "name": "stdout",
     "output_type": "stream",
     "text": [
      "How many feet of fiber optic cable do you need to install?\n",
      "181\n"
     ]
    }
   ],
   "source": [
    "feetNeeded = int(input(\"How many feet of fiber optic cable do you need to install?\\n\"))"
   ]
  },
  {
   "cell_type": "markdown",
   "metadata": {},
   "source": [
    "<b>Evaluate the total cost based upon the number of feet requested</b>"
   ]
  },
  {
   "cell_type": "code",
   "execution_count": 20,
   "metadata": {},
   "outputs": [
    {
     "name": "stdout",
     "output_type": "stream",
     "text": [
      "Feet Needed: 181\n",
      "Price per foot: 0.8\n",
      "Total Cost: 144.8\n"
     ]
    }
   ],
   "source": [
    "if feetNeeded > 500:\n",
    "    priceFoot = 0.50\n",
    "elif feetNeeded > 250:\n",
    "    priceFoot = 0.70\n",
    "elif feetNeeded > 100:\n",
    "    priceFoot = 0.80\n",
    "else:\n",
    "    priceFoot = 0.87\n",
    "\n",
    "totalCost = feetNeeded * priceFoot\n",
    "\n",
    "# Check math\n",
    "print(\"Feet Needed: \" + str(feetNeeded))\n",
    "print(\"Price per foot: \" + str(priceFoot))\n",
    "print(\"Total Cost: \" + str(totalCost))"
   ]
  },
  {
   "cell_type": "markdown",
   "metadata": {},
   "source": [
    "<b>Display the calculated information including the number of feet requested and company name</b>"
   ]
  },
  {
   "cell_type": "code",
   "execution_count": 23,
   "metadata": {},
   "outputs": [
    {
     "name": "stdout",
     "output_type": "stream",
     "text": [
      "Bellevue Fiber Optic Supply would like to thank you for your purchase! \n",
      "\n",
      "Receipt\n",
      "Purchaser: Walmart\n",
      "Feet Needed: 181 ft\n",
      "Price per foot: $0.8\n",
      "Total Cost: $144.8\n"
     ]
    }
   ],
   "source": [
    "print(\"Bellevue Fiber Optic Supply would like to thank you for your purchase! \\n\\nReceipt\")\n",
    "print(\"Purchaser: \" + str(companyName))\n",
    "print(\"Feet Needed: \" + str(feetNeeded) + \" ft\")\n",
    "print(\"Price per foot: $\" + str(priceFoot))\n",
    "print(\"Total Cost: $\" + str(totalCost))"
   ]
  }
 ],
 "metadata": {
  "kernelspec": {
   "display_name": "Python 3",
   "language": "python",
   "name": "python3"
  },
  "language_info": {
   "codemirror_mode": {
    "name": "ipython",
    "version": 3
   },
   "file_extension": ".py",
   "mimetype": "text/x-python",
   "name": "python",
   "nbconvert_exporter": "python",
   "pygments_lexer": "ipython3",
   "version": "3.7.0"
  }
 },
 "nbformat": 4,
 "nbformat_minor": 2
}
