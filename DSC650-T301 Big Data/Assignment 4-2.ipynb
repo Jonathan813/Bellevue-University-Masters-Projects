{
 "cells": [
  {
   "cell_type": "markdown",
   "metadata": {},
   "source": [
    "<b>\n",
    "Name: Jonathan Lawrence<br/>\n",
    "Date: 9/20/19<br/>\n",
    "Assignment: 4-2<br/>\n",
    "</b>"
   ]
  },
  {
   "cell_type": "code",
   "execution_count": 1,
   "metadata": {},
   "outputs": [],
   "source": [
    "from pyspark.context import SparkContext\n",
    "from pyspark.sql.session import SparkSession\n",
    "from pyspark.sql.functions import count, avg\n",
    "sc = SparkContext('local')\n",
    "spark = SparkSession(sc)"
   ]
  },
  {
   "cell_type": "markdown",
   "metadata": {},
   "source": [
    "<b>1. Flight Data</b>"
   ]
  },
  {
   "cell_type": "code",
   "execution_count": 1,
   "metadata": {},
   "outputs": [],
   "source": [
    "flights_parquet_path = \"C:\\\\Users\\\\Jonathan\\\\Desktop\\\\Master's Stuff\\\\Master's Program\\\\DSC650-T301 Big Data\\\\dsc650-master\\\\data\\\\domestic-flights\\\\flights.parquet\"\n",
    "airport_codes_path = \"C:\\\\Users\\\\Jonathan\\\\Desktop\\\\Master's Stuff\\\\Master's Program\\\\DSC650-T301 Big Data\\\\dsc650-master\\\\data\\\\airport-codes\\\\airport-codes.csv\""
   ]
  },
  {
   "cell_type": "code",
   "execution_count": 3,
   "metadata": {},
   "outputs": [],
   "source": [
    "df_flights = spark.read.parquet(flights_parquet_path)\n",
    "df_airportCodes = spark.read.load(\n",
    "  airport_codes_path,\n",
    "  format=\"csv\",\n",
    "  sep=\",\",\n",
    "  inferSchema=True,\n",
    "  header=True\n",
    ")"
   ]
  },
  {
   "cell_type": "code",
   "execution_count": 4,
   "metadata": {},
   "outputs": [
    {
     "name": "stdout",
     "output_type": "stream",
     "text": [
      "root\n",
      " |-- origin_airport_code: string (nullable = true)\n",
      " |-- destination_airport_code: string (nullable = true)\n",
      " |-- origin_city: string (nullable = true)\n",
      " |-- destination_city: string (nullable = true)\n",
      " |-- passengers: long (nullable = true)\n",
      " |-- seats: long (nullable = true)\n",
      " |-- flights: long (nullable = true)\n",
      " |-- distance: double (nullable = true)\n",
      " |-- origin_population: long (nullable = true)\n",
      " |-- destination_population: long (nullable = true)\n",
      " |-- flight_year: long (nullable = true)\n",
      " |-- flight_month: long (nullable = true)\n",
      " |-- __index_level_0__: long (nullable = true)\n",
      "\n",
      "None\n",
      "root\n",
      " |-- ident: string (nullable = true)\n",
      " |-- type: string (nullable = true)\n",
      " |-- name: string (nullable = true)\n",
      " |-- elevation_ft: double (nullable = true)\n",
      " |-- continent: string (nullable = true)\n",
      " |-- iso_country: string (nullable = true)\n",
      " |-- iso_region: string (nullable = true)\n",
      " |-- municipality: string (nullable = true)\n",
      " |-- gps_code: string (nullable = true)\n",
      " |-- iata_code: string (nullable = true)\n",
      " |-- local_code: string (nullable = true)\n",
      " |-- coordinates: string (nullable = true)\n",
      "\n",
      "None\n"
     ]
    }
   ],
   "source": [
    "print(df_flights.printSchema()) # Print the schema\n",
    "print(df_airportCodes.printSchema()) # Print the schema"
   ]
  },
  {
   "cell_type": "markdown",
   "metadata": {},
   "source": [
    "<b>a) Join the data</b>"
   ]
  },
  {
   "cell_type": "code",
   "execution_count": 5,
   "metadata": {},
   "outputs": [
    {
     "name": "stdout",
     "output_type": "stream",
     "text": [
      "root\n",
      " |-- origin_airport_code: string (nullable = true)\n",
      " |-- destination_airport_code: string (nullable = true)\n",
      " |-- origin_city: string (nullable = true)\n",
      " |-- destination_city: string (nullable = true)\n",
      " |-- passengers: long (nullable = true)\n",
      " |-- seats: long (nullable = true)\n",
      " |-- flights: long (nullable = true)\n",
      " |-- distance: double (nullable = true)\n",
      " |-- origin_population: long (nullable = true)\n",
      " |-- destination_population: long (nullable = true)\n",
      " |-- flight_year: long (nullable = true)\n",
      " |-- flight_month: long (nullable = true)\n",
      " |-- __index_level_0__: long (nullable = true)\n",
      " |-- ident: string (nullable = true)\n",
      " |-- type: string (nullable = true)\n",
      " |-- name: string (nullable = true)\n",
      " |-- elevation_ft: double (nullable = true)\n",
      " |-- continent: string (nullable = true)\n",
      " |-- iso_country: string (nullable = true)\n",
      " |-- iso_region: string (nullable = true)\n",
      " |-- municipality: string (nullable = true)\n",
      " |-- gps_code: string (nullable = true)\n",
      " |-- iata_code: string (nullable = true)\n",
      " |-- local_code: string (nullable = true)\n",
      " |-- coordinates: string (nullable = true)\n",
      "\n",
      "None\n"
     ]
    }
   ],
   "source": [
    "# Origin\n",
    "joinExpression = df_flights.origin_airport_code == df_airportCodes.iata_code\n",
    "joinType = \"left_outer\"\n",
    "\n",
    "origin_join = df_flights.join(df_airportCodes, joinExpression, joinType)\n",
    "print(origin_join.printSchema()) # Print the schema of the joined "
   ]
  },
  {
   "cell_type": "markdown",
   "metadata": {},
   "source": [
    "<b>b. Rename and Remove Columns</b>"
   ]
  },
  {
   "cell_type": "code",
   "execution_count": 6,
   "metadata": {},
   "outputs": [
    {
     "name": "stdout",
     "output_type": "stream",
     "text": [
      "root\n",
      " |-- origin_airport_code: string (nullable = true)\n",
      " |-- destination_airport_code: string (nullable = true)\n",
      " |-- origin_city: string (nullable = true)\n",
      " |-- destination_city: string (nullable = true)\n",
      " |-- passengers: long (nullable = true)\n",
      " |-- seats: long (nullable = true)\n",
      " |-- flights: long (nullable = true)\n",
      " |-- distance: double (nullable = true)\n",
      " |-- origin_population: long (nullable = true)\n",
      " |-- destination_population: long (nullable = true)\n",
      " |-- flight_year: long (nullable = true)\n",
      " |-- flight_month: long (nullable = true)\n",
      " |-- origin_airport_type: string (nullable = true)\n",
      " |-- origin_airport_name: string (nullable = true)\n",
      " |-- origin_airport_elevation_ft: double (nullable = true)\n",
      " |-- origin_airport_region: string (nullable = true)\n",
      " |-- origin_airport_municipality: string (nullable = true)\n",
      " |-- origin_airport_gps_code: string (nullable = true)\n",
      " |-- origin_airport_coordinates: string (nullable = true)\n",
      "\n",
      "None\n"
     ]
    }
   ],
   "source": [
    "# b. Rename and Remove Columns\n",
    "origin_join = (origin_join\n",
    "   .withColumnRenamed('type','origin_airport_type')\n",
    "   .withColumnRenamed('name', 'origin_airport_name')\n",
    "   .withColumnRenamed('elevation_ft', 'origin_airport_elevation_ft')\n",
    "   .withColumnRenamed('iso_region', 'origin_airport_region')\n",
    "   .withColumnRenamed('municipality', 'origin_airport_municipality')\n",
    "   .withColumnRenamed('gps_code', 'origin_airport_gps_code')\n",
    "   .withColumnRenamed('coordinates', 'origin_airport_coordinates'))\n",
    "\n",
    "columns_to_drop = ['__index_level_0__', 'ident', 'local_code', 'continent', 'iso_country', 'iata_code']\n",
    "origin_join = origin_join.drop(*columns_to_drop)\n",
    "print(origin_join.printSchema()) # Print the schema of the joined "
   ]
  },
  {
   "cell_type": "markdown",
   "metadata": {},
   "source": [
    "<b>c. Join to Destination Airport</b>"
   ]
  },
  {
   "cell_type": "code",
   "execution_count": 7,
   "metadata": {},
   "outputs": [
    {
     "name": "stdout",
     "output_type": "stream",
     "text": [
      "root\n",
      " |-- origin_airport_code: string (nullable = true)\n",
      " |-- destination_airport_code: string (nullable = true)\n",
      " |-- origin_city: string (nullable = true)\n",
      " |-- destination_city: string (nullable = true)\n",
      " |-- passengers: long (nullable = true)\n",
      " |-- seats: long (nullable = true)\n",
      " |-- flights: long (nullable = true)\n",
      " |-- distance: double (nullable = true)\n",
      " |-- origin_population: long (nullable = true)\n",
      " |-- destination_population: long (nullable = true)\n",
      " |-- flight_year: long (nullable = true)\n",
      " |-- flight_month: long (nullable = true)\n",
      " |-- destination_airport_type: string (nullable = true)\n",
      " |-- destination_airport_name: string (nullable = true)\n",
      " |-- destination_airport_elevation_ft: double (nullable = true)\n",
      " |-- destination_airport_region: string (nullable = true)\n",
      " |-- destination_airport_municipality: string (nullable = true)\n",
      " |-- destination_airport_gps_code: string (nullable = true)\n",
      " |-- destination_airport_coordinates: string (nullable = true)\n",
      "\n",
      "None\n"
     ]
    }
   ],
   "source": [
    "# Destination\n",
    "joinExpression = df_flights.destination_airport_code == df_airportCodes.iata_code\n",
    "joinType = \"left_outer\"\n",
    "\n",
    "destination_join = df_flights.join(df_airportCodes, joinExpression, joinType)\n",
    "\n",
    "# Rename\n",
    "destination_join = (destination_join\n",
    "   .withColumnRenamed('type','destination_airport_type')\n",
    "   .withColumnRenamed('name', 'destination_airport_name')\n",
    "   .withColumnRenamed('elevation_ft', 'destination_airport_elevation_ft')\n",
    "   .withColumnRenamed('iso_region', 'destination_airport_region')\n",
    "   .withColumnRenamed('municipality', 'destination_airport_municipality')\n",
    "   .withColumnRenamed('gps_code', 'destination_airport_gps_code')\n",
    "   .withColumnRenamed('coordinates', 'destination_airport_coordinates'))\n",
    "\n",
    "# Remove\n",
    "columns_to_drop = ['__index_level_0__', 'ident', 'local_code', 'continent', 'iso_country', 'iata_code']\n",
    "destination_join = destination_join.drop(*columns_to_drop)\n",
    "\n",
    "print(destination_join.printSchema()) # Print the schema of the joined"
   ]
  },
  {
   "cell_type": "markdown",
   "metadata": {},
   "source": [
    "<b>d. Top Ten Airports</b>\n",
    "\n",
    "<li>Rank (1-10)</li>\n",
    "<li>Name</li>\n",
    "<li>IATA code</li>\n",
    "<li>Total Inbound Passengers</li>\n",
    "<li>Total Inbound Flights</li>\n",
    "<li>Average Daily Passengers</li>\n",
    "<li>Average Inbound Flights</li>"
   ]
  },
  {
   "cell_type": "markdown",
   "metadata": {},
   "source": [
    "Initial join"
   ]
  },
  {
   "cell_type": "code",
   "execution_count": 8,
   "metadata": {},
   "outputs": [],
   "source": [
    "# Inbound only (destination)\n",
    "\n",
    "destination_join_2008 = destination_join.where(\"flight_year == '2008'\") # Year 2008 only\n",
    "#destination_join_2008.show(10)\n",
    "\n",
    "\n",
    "#joinExpression = df_flights.origin_airport_code == df_airportCodes.iata_code\n",
    "#joinType = 'outer'\n",
    "\n",
    "#inner_join = df_flights.join(df_airportCodes, joinExpression, joinType)\n",
    "#inner_join_2008 = inner_join.where(\"flight_year == '2008'\") # Year 2008 only\n",
    "#inner_join_2008.show(10)"
   ]
  },
  {
   "cell_type": "markdown",
   "metadata": {},
   "source": [
    "Setting up the columns"
   ]
  },
  {
   "cell_type": "code",
   "execution_count": 9,
   "metadata": {},
   "outputs": [
    {
     "name": "stdout",
     "output_type": "stream",
     "text": [
      "root\n",
      " |-- Rank: integer (nullable = true)\n",
      " |-- Name: string (nullable = true)\n",
      " |-- IATA code: string (nullable = true)\n",
      " |-- Total Inbound Passengers: long (nullable = true)\n",
      " |-- Total Inbound Flights: long (nullable = true)\n",
      " |-- Average Daily Passengers: double (nullable = true)\n",
      " |-- Average Inbound Flights: double (nullable = true)\n",
      "\n",
      "None\n",
      "+----+--------------------+---------+------------------------+---------------------+------------------------+-----------------------+\n",
      "|Rank|                Name|IATA code|Total Inbound Passengers|Total Inbound Flights|Average Daily Passengers|Average Inbound Flights|\n",
      "+----+--------------------+---------+------------------------+---------------------+------------------------+-----------------------+\n",
      "|   1|Hartsfield Jackso...|      ATL|                35561795|               395192|       97429.57534246576|      45.03612535612535|\n",
      "|   2|Chicago O'Hare In...|      ORD|                26398793|               356570|        72325.4602739726|      37.61683721911594|\n",
      "|   3|Dallas Fort Worth...|      DFW|                22883558|               270243|       62694.67945205479|      52.89547856723429|\n",
      "|   4|Los Angeles Inter...|      LAX|                19741782|               215000|       54087.07397260274|      46.39620198532585|\n",
      "|   5|McCarran Internat...|      LAS|                18262263|               164123|       50033.59726027397|      42.22356573192694|\n",
      "|   6|Phoenix Sky Harbo...|      PHX|                17305718|               181259|       47412.92602739726|     40.981008365362875|\n",
      "|   7|Charlotte Douglas...|      CLT|                15038489|               205040|        41201.3397260274|      33.32899869960988|\n",
      "|   8|George Bush Inter...|      IAH|                14870717|               214245|        40741.6904109589|      36.86886938564791|\n",
      "|   9|Orlando Internati...|      MCO|                14581086|               131710|      39948.180821917806|     36.749441964285715|\n",
      "|  10|Detroit Metropoli...|      DTW|                14228887|               191910|      38983.252054794524|      34.03866619368571|\n",
      "+----+--------------------+---------+------------------------+---------------------+------------------------+-----------------------+\n",
      "only showing top 10 rows\n",
      "\n"
     ]
    }
   ],
   "source": [
    "from pyspark.sql import functions as F, Window\n",
    "from pyspark.sql.functions import desc, dense_rank\n",
    "\n",
    "# Group by name and destination airport code, then use aggregate functions to achieve mathematical calculations\n",
    "top_ten = destination_join_2008.groupBy('destination_airport_name', 'destination_airport_code').agg(F.sum('passengers'), F.sum('flights'), F.sum('passengers') / 365, F.avg('flights'))\n",
    "\n",
    "# Order with Window, then Rank\n",
    "windowA = Window.orderBy(F.desc(\"sum(passengers)\"))\n",
    "top_ten_ranked = top_ten.withColumn(\"Rank\", F.dense_rank().over(windowA))\n",
    "\n",
    "# Rename columns\n",
    "top_ten_ranked = top_ten_ranked.withColumnRenamed(\n",
    "    \"destination_airport_name\", \"Name\").withColumnRenamed(\n",
    "    \"destination_airport_code\", \"IATA code\").withColumnRenamed(\n",
    "    \"sum(passengers)\", \"Total Inbound Passengers\").withColumnRenamed(\n",
    "    \"sum(flights)\", \"Total Inbound Flights\").withColumnRenamed(\n",
    "    \"(sum(passengers) / 365)\", \"Average Daily Passengers\").withColumnRenamed(\n",
    "    \"avg(flights)\", \"Average Inbound Flights\")\n",
    "\n",
    "# Reorder columns\n",
    "top_ten_ranked = top_ten_ranked.select(\"Rank\",\"Name\",\"IATA code\",\"Total Inbound Passengers\",\"Total Inbound Flights\",\"Average Daily Passengers\",\"Average Inbound Flights\")\n",
    "\n",
    "# Show result\n",
    "print(top_ten_ranked.printSchema()) # Print the schema\n",
    "top_ten_ranked.show(10)"
   ]
  },
  {
   "cell_type": "markdown",
   "metadata": {},
   "source": [
    "<b>e. User Defined Functions</b>"
   ]
  },
  {
   "cell_type": "code",
   "execution_count": 10,
   "metadata": {},
   "outputs": [],
   "source": [
    "# Provided functions\n",
    "\n",
    "from pyspark.sql.functions import udf\n",
    "\n",
    "@udf('double')\n",
    "def get_latitude(coordinates):\n",
    "    split_coords = coordinates.split(',')\n",
    "    if len(split_coords) != 2:\n",
    "        return None\n",
    "\n",
    "    return float(split_coords[0].strip())\n",
    "\n",
    "\n",
    "@udf('double')\n",
    "def get_longitude(coordinates):\n",
    "    split_coords = coordinates.split(',')\n",
    "    if len(split_coords) != 2:\n",
    "        return None\n",
    "\n",
    "    return float(split_coords[1].strip())"
   ]
  },
  {
   "cell_type": "code",
   "execution_count": 12,
   "metadata": {},
   "outputs": [
    {
     "name": "stdout",
     "output_type": "stream",
     "text": [
      "root\n",
      " |-- origin_airport_code: string (nullable = true)\n",
      " |-- destination_airport_code: string (nullable = true)\n",
      " |-- origin_city: string (nullable = true)\n",
      " |-- destination_city: string (nullable = true)\n",
      " |-- passengers: long (nullable = true)\n",
      " |-- seats: long (nullable = true)\n",
      " |-- flights: long (nullable = true)\n",
      " |-- distance: double (nullable = true)\n",
      " |-- origin_population: long (nullable = true)\n",
      " |-- destination_population: long (nullable = true)\n",
      " |-- flight_year: long (nullable = true)\n",
      " |-- flight_month: long (nullable = true)\n",
      " |-- origin_airport_type: string (nullable = true)\n",
      " |-- origin_airport_name: string (nullable = true)\n",
      " |-- origin_airport_elevation_ft: double (nullable = true)\n",
      " |-- origin_airport_region: string (nullable = true)\n",
      " |-- origin_airport_municipality: string (nullable = true)\n",
      " |-- origin_airport_gps_code: string (nullable = true)\n",
      " |-- origin_airport_coordinates: string (nullable = true)\n",
      " |-- origin_airport_longitude: double (nullable = true)\n",
      " |-- origin_airport_latitude: double (nullable = true)\n",
      "\n",
      "None\n",
      "root\n",
      " |-- origin_airport_code: string (nullable = true)\n",
      " |-- destination_airport_code: string (nullable = true)\n",
      " |-- origin_city: string (nullable = true)\n",
      " |-- destination_city: string (nullable = true)\n",
      " |-- passengers: long (nullable = true)\n",
      " |-- seats: long (nullable = true)\n",
      " |-- flights: long (nullable = true)\n",
      " |-- distance: double (nullable = true)\n",
      " |-- origin_population: long (nullable = true)\n",
      " |-- destination_population: long (nullable = true)\n",
      " |-- flight_year: long (nullable = true)\n",
      " |-- flight_month: long (nullable = true)\n",
      " |-- destination_airport_type: string (nullable = true)\n",
      " |-- destination_airport_name: string (nullable = true)\n",
      " |-- destination_airport_elevation_ft: double (nullable = true)\n",
      " |-- destination_airport_region: string (nullable = true)\n",
      " |-- destination_airport_municipality: string (nullable = true)\n",
      " |-- destination_airport_gps_code: string (nullable = true)\n",
      " |-- destination_airport_coordinates: string (nullable = true)\n",
      " |-- destination_airport_longitude: double (nullable = true)\n",
      " |-- destination_airport_latitude: double (nullable = true)\n",
      "\n",
      "None\n"
     ]
    }
   ],
   "source": [
    "# Verify Schema (before modification)\n",
    "#print(origin_join.printSchema()) # Print the schema\n",
    "#print(destination_join.printSchema()) # Print the schema\n",
    "\n",
    "# Origin\n",
    "origin_join = origin_join.withColumn(\n",
    "  'origin_airport_longitude',\n",
    "  get_longitude(origin_join['origin_airport_coordinates'])\n",
    ").withColumn(\n",
    "  'origin_airport_latitude',\n",
    "  get_latitude(origin_join['origin_airport_coordinates'])\n",
    ")\n",
    "\n",
    "# Destination\n",
    "destination_join = destination_join.withColumn(\n",
    "  'destination_airport_longitude',\n",
    "  get_longitude(destination_join['destination_airport_coordinates'])\n",
    ").withColumn(\n",
    "  'destination_airport_latitude',\n",
    "  get_latitude(destination_join['destination_airport_coordinates'])\n",
    ")\n",
    "\n",
    "# Verify Schema\n",
    "print(origin_join.printSchema()) # Print the schema\n",
    "print(destination_join.printSchema()) # Print the schema"
   ]
  }
 ],
 "metadata": {
  "kernelspec": {
   "display_name": "Python 3",
   "language": "python",
   "name": "python3"
  },
  "language_info": {
   "codemirror_mode": {
    "name": "ipython",
    "version": 3
   },
   "file_extension": ".py",
   "mimetype": "text/x-python",
   "name": "python",
   "nbconvert_exporter": "python",
   "pygments_lexer": "ipython3",
   "version": "3.7.5"
  },
  "widgets": {
   "state": {},
   "version": "1.1.2"
  }
 },
 "nbformat": 4,
 "nbformat_minor": 2
}
